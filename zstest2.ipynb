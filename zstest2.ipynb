{
  "nbformat": 4,
  "nbformat_minor": 0,
  "metadata": {
    "colab": {
      "name": "zstest2.ipynb",
      "provenance": [],
      "collapsed_sections": []
    },
    "kernelspec": {
      "name": "python3",
      "display_name": "Python 3"
    }
  },
  "cells": [
    {
      "cell_type": "code",
      "metadata": {
        "id": "6nW-KHv68jQj",
        "outputId": "ff81ca17-f1c5-4b1c-f98f-c371e9da7e3c",
        "colab": {
          "base_uri": "https://localhost:8080/",
          "height": 34
        }
      },
      "source": [
        "cd /content/drive/My Drive/zsdata"
      ],
      "execution_count": null,
      "outputs": [
        {
          "output_type": "stream",
          "text": [
            "/content/drive/My Drive/zsdata\n"
          ],
          "name": "stdout"
        }
      ]
    },
    {
      "cell_type": "code",
      "metadata": {
        "id": "FFyA9bsX8sRm"
      },
      "source": [
        "import os\n",
        "import numpy as np\n",
        "import pandas as pd"
      ],
      "execution_count": null,
      "outputs": []
    },
    {
      "cell_type": "code",
      "metadata": {
        "id": "8wjf1ElX80w0"
      },
      "source": [
        "df = pd.read_csv('dataset/train_file.csv')\n",
        "df_test = pd.read_csv('dataset/test_file.csv')"
      ],
      "execution_count": null,
      "outputs": []
    },
    {
      "cell_type": "code",
      "metadata": {
        "id": "E3QWIigH86ke"
      },
      "source": [
        "df.drop(['IDLink','PublishDate','Source'],axis=1,inplace=True)"
      ],
      "execution_count": null,
      "outputs": []
    },
    {
      "cell_type": "code",
      "metadata": {
        "id": "Vz4VnYID89l8",
        "outputId": "6d33e050-2810-4d8b-913a-a82196ef0a45",
        "colab": {
          "base_uri": "https://localhost:8080/",
          "height": 118
        }
      },
      "source": [
        "import re\n",
        "import nltk\n",
        "import inflect \n",
        "nltk.download(\"stopwords\")\n",
        "nltk.download('punkt')\n",
        "nltk.download('wordnet')\n",
        "from nltk.corpus import stopwords\n",
        "from nltk.stem import SnowballStemmer\n",
        "from nltk.stem import WordNetLemmatizer\n",
        "from nltk.tokenize import word_tokenize\n",
        "from string import punctuation\n",
        "import string"
      ],
      "execution_count": null,
      "outputs": [
        {
          "output_type": "stream",
          "text": [
            "[nltk_data] Downloading package stopwords to /root/nltk_data...\n",
            "[nltk_data]   Unzipping corpora/stopwords.zip.\n",
            "[nltk_data] Downloading package punkt to /root/nltk_data...\n",
            "[nltk_data]   Unzipping tokenizers/punkt.zip.\n",
            "[nltk_data] Downloading package wordnet to /root/nltk_data...\n",
            "[nltk_data]   Unzipping corpora/wordnet.zip.\n"
          ],
          "name": "stdout"
        }
      ]
    },
    {
      "cell_type": "code",
      "metadata": {
        "id": "JaHB-ukg9Ay0"
      },
      "source": [
        "def clean_text(text):\n",
        "    \n",
        "    ## Remove puncuation\n",
        "    text = text.translate(string.punctuation)\n",
        "    \n",
        "    ## Convert words to lower case and split them\n",
        "    text = text.lower().split()\n",
        "    new_string = [] \n",
        "    p = inflect.engine() \n",
        "    for word in text: \n",
        "        # if word is a digit, convert the digit \n",
        "        # to numbers and append into the new_string list \n",
        "        if word.isdigit(): \n",
        "            temp = p.number_to_words(word) \n",
        "            new_string.append(temp) \n",
        "  \n",
        "        # append the word as it is \n",
        "        else: \n",
        "            new_string.append(word)\n",
        "    text = new_string\n",
        "    # Remove stop words\n",
        "    stops = set(stopwords.words(\"english\"))\n",
        "    text = [w for w in text if not w in stops and len(w) >= 3]\n",
        "    \n",
        "    text = \" \".join(text)\n",
        "    ## Clean the text\n",
        "    text = re.sub(r\"[^A-Za-z0-9^,!.\\/'+-=]\", \" \", text)\n",
        "    text = re.sub(r\"what's\", \"what is \", text)\n",
        "    text = re.sub(r\"\\'s\", \" \", text)\n",
        "    text = re.sub(r\"\\'ve\", \" have \", text)\n",
        "    text = re.sub(r\"n't\", \" not \", text)\n",
        "    text = re.sub(r\"i'm\", \"i am \", text)\n",
        "    text = re.sub(r\"\\'re\", \" are \", text)\n",
        "    text = re.sub(r\"\\'d\", \" would \", text)\n",
        "    text = re.sub(r\"\\'ll\", \" will \", text)\n",
        "    text = re.sub(r\",\", \" \", text)\n",
        "    text = re.sub(r\"\\.\", \" \", text)\n",
        "    text = re.sub(r\"!\", \" \", text)\n",
        "    text = re.sub(r\"\\/\", \" \", text)\n",
        "    text = re.sub(r\"\\^\", \" \", text)\n",
        "    text = re.sub(r\"\\+\", \" \", text)\n",
        "    text = re.sub(r\"\\-\", \" \", text)\n",
        "    text = re.sub(r\"\\=\", \" \", text)\n",
        "    text = re.sub(r\"'\", \" \", text)\n",
        "    # text = re.sub(r\"(\\d+)(k)\", r\"\\g<1>000\", text)\n",
        "    text = re.sub(r\":\", \" \", text)\n",
        "    text = re.sub(r\" e g \", \" eg \", text)\n",
        "    text = re.sub(r\" b g \", \" bg \", text)\n",
        "    text = re.sub(r\" u s \", \" american \", text)\n",
        "    text = re.sub(r\"\\0s\", \"0\", text)\n",
        "    text = re.sub(r\" 9 11 \", \"911\", text)\n",
        "    text = re.sub(r\"e - mail\", \"email\", text)\n",
        "    text = re.sub(r\"j k\", \"jk\", text)\n",
        "    text = re.sub(' +', ' ', text) \n",
        "    \n",
        "    # text = re.sub(r\"\\s{2,}\", \" \", text)\n",
        "    # Stemming\n",
        "    text = text.split()\n",
        "    stemmer = SnowballStemmer('english')\n",
        "    stemmed_words = [stemmer.stem(word) for word in text]\n",
        "    text = \" \".join(stemmed_words)\n",
        "\n",
        "    # lemmatizer=WordNetLemmatizer()\n",
        "    # text=word_tokenize(text)\n",
        "    # lemma = [lemmatizer.lemmatize(word) for word in text]\n",
        "    # text = \" \".join(lemma)\n",
        "    return text"
      ],
      "execution_count": null,
      "outputs": []
    },
    {
      "cell_type": "code",
      "metadata": {
        "id": "USanH7fP9C_R"
      },
      "source": [
        "df['Headline']=df['Headline'].apply(clean_text)\n",
        "df['Title']=df['Title'].apply(clean_text)"
      ],
      "execution_count": null,
      "outputs": []
    },
    {
      "cell_type": "code",
      "metadata": {
        "id": "QLrGutF79FN0"
      },
      "source": [
        "title_sent = df['Title'].tolist()\n",
        "head_sent = df['Headline'].tolist()\n",
        "senti_title = df['SentimentTitle'].tolist()\n",
        "senti_head = df['SentimentHeadline'].tolist()"
      ],
      "execution_count": null,
      "outputs": []
    },
    {
      "cell_type": "code",
      "metadata": {
        "id": "hqAFUdMvp4B_"
      },
      "source": [
        "df_test['Headline']=df_test['Headline'].apply(clean_text)\n",
        "df_test['Title']=df_test['Title'].apply(clean_text)"
      ],
      "execution_count": null,
      "outputs": []
    },
    {
      "cell_type": "code",
      "metadata": {
        "id": "RhSZl4q6p42U"
      },
      "source": [
        "title_sent_test = df_test['Title'].tolist()\n",
        "head_sent_test = df_test['Headline'].tolist()"
      ],
      "execution_count": null,
      "outputs": []
    },
    {
      "cell_type": "code",
      "metadata": {
        "id": "l0A7Uwt6u3qS"
      },
      "source": [
        "from sklearn.feature_extraction.text import TfidfVectorizer\n",
        "from sklearn.linear_model import LogisticRegression"
      ],
      "execution_count": null,
      "outputs": []
    },
    {
      "cell_type": "code",
      "metadata": {
        "id": "ZTBeyvWRvMn0"
      },
      "source": [
        "title_texts_train=df['Title'].astype(str)\n",
        "title_texts_test=df_test['Title'].astype(str)"
      ],
      "execution_count": null,
      "outputs": []
    },
    {
      "cell_type": "code",
      "metadata": {
        "id": "t4Ew2DhVvYQd"
      },
      "source": [
        "word_vectorizer = TfidfVectorizer(\n",
        "    sublinear_tf=True,\n",
        "    strip_accents='unicode',\n",
        "    analyzer='word',\n",
        "    token_pattern=r'\\w{1,}',\n",
        "    stop_words='english',\n",
        "    ngram_range=(1, 1),\n",
        "    max_features=5000)"
      ],
      "execution_count": null,
      "outputs": []
    },
    {
      "cell_type": "code",
      "metadata": {
        "id": "K3d8PtOhvfOD"
      },
      "source": [
        "full_tfidf_word_title=word_vectorizer.fit_transform(df['Title'].values.tolist() + df_test['Title'].values.tolist())\n",
        "train_tfidf_word_title = word_vectorizer.transform(df['Title'].values.tolist())\n",
        "test_tfidf_word_title = word_vectorizer.transform(df_test['Title'].values.tolist())"
      ],
      "execution_count": null,
      "outputs": []
    },
    {
      "cell_type": "code",
      "metadata": {
        "id": "zgkehSSww5pI"
      },
      "source": [
        "full_tfidf_word_head=word_vectorizer.fit_transform(df['Headline'].values.tolist() + df_test['Headline'].values.tolist())\n",
        "train_tfidf_word_head = word_vectorizer.transform(df['Headline'].values.tolist())\n",
        "test_tfidf_word_head = word_vectorizer.transform(df_test['Headline'].values.tolist())"
      ],
      "execution_count": null,
      "outputs": []
    },
    {
      "cell_type": "code",
      "metadata": {
        "id": "f1PhvzTSxCn9"
      },
      "source": [
        "df=df.reset_index()\n",
        "df_test=df_test.reset_index()"
      ],
      "execution_count": null,
      "outputs": []
    },
    {
      "cell_type": "code",
      "metadata": {
        "id": "45uYoN6ZxImg"
      },
      "source": [
        "from sklearn.decomposition import TruncatedSVD"
      ],
      "execution_count": null,
      "outputs": []
    },
    {
      "cell_type": "code",
      "metadata": {
        "id": "a3lDSz2YxK7G"
      },
      "source": [
        "n_comp_title = 10\n",
        "svd_obj_title = TruncatedSVD(n_components=n_comp_title, algorithm='arpack')\n",
        "svd_obj_title.fit(full_tfidf_word_title)\n",
        "train_svd_word_title = pd.DataFrame(svd_obj_title.transform(train_tfidf_word_title))\n",
        "test_svd_word_title = pd.DataFrame(svd_obj_title.transform(test_tfidf_word_title))\n",
        "    \n",
        "train_svd_word_title.columns = ['svd_word_title_'+str(i) for i in range(n_comp_title)]\n",
        "test_svd_word_title.columns = ['svd_word_title_'+str(i) for i in range(n_comp_title)]\n",
        "df = pd.concat([df, train_svd_word_title], axis=1)\n",
        "df_test = pd.concat([df_test, test_svd_word_title], axis=1)"
      ],
      "execution_count": null,
      "outputs": []
    },
    {
      "cell_type": "code",
      "metadata": {
        "id": "ERp-RwZnxlo3"
      },
      "source": [
        "n_comp_head = 20\n",
        "svd_obj_head = TruncatedSVD(n_components=n_comp_head, algorithm='arpack')\n",
        "svd_obj_head.fit(full_tfidf_word_head)\n",
        "train_svd_word_head = pd.DataFrame(svd_obj_head.transform(train_tfidf_word_head))\n",
        "test_svd_word_head = pd.DataFrame(svd_obj_head.transform(test_tfidf_word_head))\n",
        "    \n",
        "train_svd_word_head.columns = ['svd_word_head_'+str(i) for i in range(n_comp_head)]\n",
        "test_svd_word_head.columns = ['svd_word_head_'+str(i) for i in range(n_comp_head)]\n",
        "df = pd.concat([df, train_svd_word_head], axis=1)\n",
        "df_test = pd.concat([df_test, test_svd_word_head], axis=1)"
      ],
      "execution_count": null,
      "outputs": []
    },
    {
      "cell_type": "code",
      "metadata": {
        "id": "dbCcD3dlyVp9",
        "outputId": "12f45a86-6cec-4007-a5ad-e231c9955a1b",
        "colab": {
          "base_uri": "https://localhost:8080/",
          "height": 702
        }
      },
      "source": [
        "# df.head()"
      ],
      "execution_count": null,
      "outputs": [
        {
          "output_type": "execute_result",
          "data": {
            "text/html": [
              "<div>\n",
              "<style scoped>\n",
              "    .dataframe tbody tr th:only-of-type {\n",
              "        vertical-align: middle;\n",
              "    }\n",
              "\n",
              "    .dataframe tbody tr th {\n",
              "        vertical-align: top;\n",
              "    }\n",
              "\n",
              "    .dataframe thead th {\n",
              "        text-align: right;\n",
              "    }\n",
              "</style>\n",
              "<table border=\"1\" class=\"dataframe\">\n",
              "  <thead>\n",
              "    <tr style=\"text-align: right;\">\n",
              "      <th></th>\n",
              "      <th>index</th>\n",
              "      <th>Title</th>\n",
              "      <th>Headline</th>\n",
              "      <th>Topic</th>\n",
              "      <th>Facebook</th>\n",
              "      <th>GooglePlus</th>\n",
              "      <th>LinkedIn</th>\n",
              "      <th>SentimentTitle</th>\n",
              "      <th>SentimentHeadline</th>\n",
              "      <th>svd_word_title_0</th>\n",
              "      <th>svd_word_title_1</th>\n",
              "      <th>svd_word_title_2</th>\n",
              "      <th>svd_word_title_3</th>\n",
              "      <th>svd_word_title_4</th>\n",
              "      <th>svd_word_title_5</th>\n",
              "      <th>svd_word_title_6</th>\n",
              "      <th>svd_word_title_7</th>\n",
              "      <th>svd_word_title_8</th>\n",
              "      <th>svd_word_title_9</th>\n",
              "      <th>svd_word_head_0</th>\n",
              "      <th>svd_word_head_1</th>\n",
              "      <th>svd_word_head_2</th>\n",
              "      <th>svd_word_head_3</th>\n",
              "      <th>svd_word_head_4</th>\n",
              "      <th>svd_word_head_5</th>\n",
              "      <th>svd_word_head_6</th>\n",
              "      <th>svd_word_head_7</th>\n",
              "      <th>svd_word_head_8</th>\n",
              "      <th>svd_word_head_9</th>\n",
              "      <th>svd_word_head_10</th>\n",
              "      <th>svd_word_head_11</th>\n",
              "      <th>svd_word_head_12</th>\n",
              "      <th>svd_word_head_13</th>\n",
              "      <th>svd_word_head_14</th>\n",
              "      <th>svd_word_head_15</th>\n",
              "      <th>svd_word_head_16</th>\n",
              "      <th>svd_word_head_17</th>\n",
              "      <th>svd_word_head_18</th>\n",
              "      <th>svd_word_head_19</th>\n",
              "    </tr>\n",
              "  </thead>\n",
              "  <tbody>\n",
              "    <tr>\n",
              "      <th>0</th>\n",
              "      <td>0</td>\n",
              "      <td>obama lay wreath arlington nation cemeteri</td>\n",
              "      <td>obama lay wreath arlington nation cemeteri pre...</td>\n",
              "      <td>obama</td>\n",
              "      <td>-1</td>\n",
              "      <td>-1</td>\n",
              "      <td>-1</td>\n",
              "      <td>0.000000</td>\n",
              "      <td>-0.053300</td>\n",
              "      <td>0.069942</td>\n",
              "      <td>0.098037</td>\n",
              "      <td>-0.030366</td>\n",
              "      <td>-0.009397</td>\n",
              "      <td>0.004577</td>\n",
              "      <td>-0.003603</td>\n",
              "      <td>-0.026209</td>\n",
              "      <td>-0.012369</td>\n",
              "      <td>-0.014348</td>\n",
              "      <td>-0.009552</td>\n",
              "      <td>0.127130</td>\n",
              "      <td>0.119910</td>\n",
              "      <td>-0.014466</td>\n",
              "      <td>-0.035393</td>\n",
              "      <td>-0.015969</td>\n",
              "      <td>0.002346</td>\n",
              "      <td>-0.003407</td>\n",
              "      <td>-0.003056</td>\n",
              "      <td>-0.030564</td>\n",
              "      <td>0.004308</td>\n",
              "      <td>-0.007657</td>\n",
              "      <td>0.003632</td>\n",
              "      <td>0.005470</td>\n",
              "      <td>-0.005866</td>\n",
              "      <td>0.029872</td>\n",
              "      <td>-0.039520</td>\n",
              "      <td>-0.025583</td>\n",
              "      <td>-0.028987</td>\n",
              "      <td>-0.028990</td>\n",
              "      <td>0.021584</td>\n",
              "    </tr>\n",
              "    <tr>\n",
              "      <th>1</th>\n",
              "      <td>1</td>\n",
              "      <td>look health chines economi</td>\n",
              "      <td>tim haywood invest director busi unit head fix...</td>\n",
              "      <td>economy</td>\n",
              "      <td>-1</td>\n",
              "      <td>-1</td>\n",
              "      <td>-1</td>\n",
              "      <td>0.208333</td>\n",
              "      <td>-0.156386</td>\n",
              "      <td>0.170616</td>\n",
              "      <td>-0.126744</td>\n",
              "      <td>-0.044926</td>\n",
              "      <td>-0.031687</td>\n",
              "      <td>-0.017804</td>\n",
              "      <td>-0.044893</td>\n",
              "      <td>-0.020202</td>\n",
              "      <td>0.008988</td>\n",
              "      <td>0.001626</td>\n",
              "      <td>-0.021411</td>\n",
              "      <td>0.113929</td>\n",
              "      <td>-0.078590</td>\n",
              "      <td>0.076412</td>\n",
              "      <td>-0.009213</td>\n",
              "      <td>0.036017</td>\n",
              "      <td>-0.110349</td>\n",
              "      <td>0.074673</td>\n",
              "      <td>-0.019842</td>\n",
              "      <td>-0.102723</td>\n",
              "      <td>-0.000174</td>\n",
              "      <td>0.126065</td>\n",
              "      <td>-0.082346</td>\n",
              "      <td>0.048653</td>\n",
              "      <td>0.014303</td>\n",
              "      <td>-0.063545</td>\n",
              "      <td>0.009749</td>\n",
              "      <td>-0.041140</td>\n",
              "      <td>-0.063500</td>\n",
              "      <td>-0.018073</td>\n",
              "      <td>-0.030983</td>\n",
              "    </tr>\n",
              "    <tr>\n",
              "      <th>2</th>\n",
              "      <td>2</td>\n",
              "      <td>nouriel roubini global economi back two thousa...</td>\n",
              "      <td>nouriel roubini nyu professor chairman roubini...</td>\n",
              "      <td>economy</td>\n",
              "      <td>-1</td>\n",
              "      <td>-1</td>\n",
              "      <td>-1</td>\n",
              "      <td>-0.425210</td>\n",
              "      <td>0.139754</td>\n",
              "      <td>0.367370</td>\n",
              "      <td>-0.281357</td>\n",
              "      <td>-0.069716</td>\n",
              "      <td>0.261570</td>\n",
              "      <td>0.315182</td>\n",
              "      <td>-0.015521</td>\n",
              "      <td>-0.009713</td>\n",
              "      <td>-0.016377</td>\n",
              "      <td>0.015314</td>\n",
              "      <td>-0.021042</td>\n",
              "      <td>0.096368</td>\n",
              "      <td>-0.108906</td>\n",
              "      <td>0.142665</td>\n",
              "      <td>-0.002604</td>\n",
              "      <td>-0.007570</td>\n",
              "      <td>-0.187178</td>\n",
              "      <td>-0.084442</td>\n",
              "      <td>-0.002412</td>\n",
              "      <td>0.030397</td>\n",
              "      <td>-0.001891</td>\n",
              "      <td>0.017325</td>\n",
              "      <td>0.060917</td>\n",
              "      <td>0.047057</td>\n",
              "      <td>0.016235</td>\n",
              "      <td>-0.003469</td>\n",
              "      <td>-0.002654</td>\n",
              "      <td>-0.081524</td>\n",
              "      <td>-0.023371</td>\n",
              "      <td>0.025362</td>\n",
              "      <td>-0.023478</td>\n",
              "    </tr>\n",
              "    <tr>\n",
              "      <th>3</th>\n",
              "      <td>3</td>\n",
              "      <td>finland gdp expand</td>\n",
              "      <td>finland economi expand margin three month end ...</td>\n",
              "      <td>economy</td>\n",
              "      <td>-1</td>\n",
              "      <td>-1</td>\n",
              "      <td>-1</td>\n",
              "      <td>0.000000</td>\n",
              "      <td>0.026064</td>\n",
              "      <td>0.019095</td>\n",
              "      <td>-0.010422</td>\n",
              "      <td>0.002451</td>\n",
              "      <td>0.002700</td>\n",
              "      <td>0.007320</td>\n",
              "      <td>0.020546</td>\n",
              "      <td>-0.005672</td>\n",
              "      <td>0.007810</td>\n",
              "      <td>-0.009305</td>\n",
              "      <td>-0.009812</td>\n",
              "      <td>0.083676</td>\n",
              "      <td>-0.093481</td>\n",
              "      <td>0.090921</td>\n",
              "      <td>-0.068185</td>\n",
              "      <td>-0.030124</td>\n",
              "      <td>0.127849</td>\n",
              "      <td>0.041482</td>\n",
              "      <td>-0.009036</td>\n",
              "      <td>-0.024856</td>\n",
              "      <td>-0.026975</td>\n",
              "      <td>0.007773</td>\n",
              "      <td>-0.023461</td>\n",
              "      <td>-0.076033</td>\n",
              "      <td>-0.059445</td>\n",
              "      <td>-0.001889</td>\n",
              "      <td>-0.026110</td>\n",
              "      <td>-0.011968</td>\n",
              "      <td>-0.003300</td>\n",
              "      <td>0.005955</td>\n",
              "      <td>0.035306</td>\n",
              "    </tr>\n",
              "    <tr>\n",
              "      <th>4</th>\n",
              "      <td>4</td>\n",
              "      <td>tourism govt spend buoy thai economi januari</td>\n",
              "      <td>tourism public spend continu boost economi jan...</td>\n",
              "      <td>economy</td>\n",
              "      <td>-1</td>\n",
              "      <td>-1</td>\n",
              "      <td>-1</td>\n",
              "      <td>0.000000</td>\n",
              "      <td>0.141084</td>\n",
              "      <td>0.089519</td>\n",
              "      <td>-0.076874</td>\n",
              "      <td>-0.030822</td>\n",
              "      <td>-0.013233</td>\n",
              "      <td>-0.006965</td>\n",
              "      <td>-0.026033</td>\n",
              "      <td>-0.006621</td>\n",
              "      <td>0.002964</td>\n",
              "      <td>-0.002988</td>\n",
              "      <td>-0.012661</td>\n",
              "      <td>0.092500</td>\n",
              "      <td>-0.105984</td>\n",
              "      <td>0.099638</td>\n",
              "      <td>-0.043557</td>\n",
              "      <td>-0.004375</td>\n",
              "      <td>0.007083</td>\n",
              "      <td>0.050274</td>\n",
              "      <td>-0.005328</td>\n",
              "      <td>0.018547</td>\n",
              "      <td>-0.017792</td>\n",
              "      <td>-0.010811</td>\n",
              "      <td>-0.021915</td>\n",
              "      <td>-0.037837</td>\n",
              "      <td>-0.027574</td>\n",
              "      <td>-0.015055</td>\n",
              "      <td>0.013571</td>\n",
              "      <td>-0.017623</td>\n",
              "      <td>-0.015290</td>\n",
              "      <td>-0.028436</td>\n",
              "      <td>0.058854</td>\n",
              "    </tr>\n",
              "  </tbody>\n",
              "</table>\n",
              "</div>"
            ],
            "text/plain": [
              "   index  ... svd_word_head_19\n",
              "0      0  ...         0.021584\n",
              "1      1  ...        -0.030983\n",
              "2      2  ...        -0.023478\n",
              "3      3  ...         0.035306\n",
              "4      4  ...         0.058854\n",
              "\n",
              "[5 rows x 39 columns]"
            ]
          },
          "metadata": {
            "tags": []
          },
          "execution_count": 20
        }
      ]
    },
    {
      "cell_type": "code",
      "metadata": {
        "id": "Sr-7TzcL0Hgw"
      },
      "source": [
        "# train_y = pd.concat([df['SentimentTitle'], df['SentimentHeadline']], axis=1)\n",
        "train_y_t = df['SentimentTitle']\n",
        "train_y_h = df['SentimentHeadline']"
      ],
      "execution_count": null,
      "outputs": []
    },
    {
      "cell_type": "code",
      "metadata": {
        "id": "ZtIXSKTRynqQ"
      },
      "source": [
        "train=df.drop(['index','Title','Headline','Facebook','GooglePlus','LinkedIn','SentimentTitle','SentimentHeadline'],axis=1)\n",
        "# test=df_test.drop(['IDLink','PublishDate','Source','index','Title','Headline'],axis=1)"
      ],
      "execution_count": null,
      "outputs": []
    },
    {
      "cell_type": "code",
      "metadata": {
        "id": "cYuyKMUb1GUS",
        "outputId": "f9f99acf-483f-474f-d675-2297e7cc5a50",
        "colab": {
          "base_uri": "https://localhost:8080/",
          "height": 215
        }
      },
      "source": [
        "# train.head()"
      ],
      "execution_count": null,
      "outputs": [
        {
          "output_type": "execute_result",
          "data": {
            "text/html": [
              "<div>\n",
              "<style scoped>\n",
              "    .dataframe tbody tr th:only-of-type {\n",
              "        vertical-align: middle;\n",
              "    }\n",
              "\n",
              "    .dataframe tbody tr th {\n",
              "        vertical-align: top;\n",
              "    }\n",
              "\n",
              "    .dataframe thead th {\n",
              "        text-align: right;\n",
              "    }\n",
              "</style>\n",
              "<table border=\"1\" class=\"dataframe\">\n",
              "  <thead>\n",
              "    <tr style=\"text-align: right;\">\n",
              "      <th></th>\n",
              "      <th>Topic</th>\n",
              "      <th>svd_word_title_0</th>\n",
              "      <th>svd_word_title_1</th>\n",
              "      <th>svd_word_title_2</th>\n",
              "      <th>svd_word_title_3</th>\n",
              "      <th>svd_word_title_4</th>\n",
              "      <th>svd_word_title_5</th>\n",
              "      <th>svd_word_title_6</th>\n",
              "      <th>svd_word_title_7</th>\n",
              "      <th>svd_word_title_8</th>\n",
              "      <th>svd_word_title_9</th>\n",
              "      <th>svd_word_head_0</th>\n",
              "      <th>svd_word_head_1</th>\n",
              "      <th>svd_word_head_2</th>\n",
              "      <th>svd_word_head_3</th>\n",
              "      <th>svd_word_head_4</th>\n",
              "      <th>svd_word_head_5</th>\n",
              "      <th>svd_word_head_6</th>\n",
              "      <th>svd_word_head_7</th>\n",
              "      <th>svd_word_head_8</th>\n",
              "      <th>svd_word_head_9</th>\n",
              "      <th>svd_word_head_10</th>\n",
              "      <th>svd_word_head_11</th>\n",
              "      <th>svd_word_head_12</th>\n",
              "      <th>svd_word_head_13</th>\n",
              "      <th>svd_word_head_14</th>\n",
              "      <th>svd_word_head_15</th>\n",
              "      <th>svd_word_head_16</th>\n",
              "      <th>svd_word_head_17</th>\n",
              "      <th>svd_word_head_18</th>\n",
              "      <th>svd_word_head_19</th>\n",
              "    </tr>\n",
              "  </thead>\n",
              "  <tbody>\n",
              "    <tr>\n",
              "      <th>0</th>\n",
              "      <td>obama</td>\n",
              "      <td>0.069942</td>\n",
              "      <td>0.098037</td>\n",
              "      <td>-0.030366</td>\n",
              "      <td>-0.009397</td>\n",
              "      <td>0.004577</td>\n",
              "      <td>-0.003603</td>\n",
              "      <td>-0.026209</td>\n",
              "      <td>-0.012369</td>\n",
              "      <td>-0.014348</td>\n",
              "      <td>-0.009552</td>\n",
              "      <td>0.127130</td>\n",
              "      <td>0.119910</td>\n",
              "      <td>-0.014466</td>\n",
              "      <td>-0.035393</td>\n",
              "      <td>-0.015969</td>\n",
              "      <td>0.002346</td>\n",
              "      <td>-0.003407</td>\n",
              "      <td>-0.003056</td>\n",
              "      <td>-0.030564</td>\n",
              "      <td>0.004308</td>\n",
              "      <td>-0.007657</td>\n",
              "      <td>0.003632</td>\n",
              "      <td>0.005470</td>\n",
              "      <td>-0.005866</td>\n",
              "      <td>0.029872</td>\n",
              "      <td>-0.039520</td>\n",
              "      <td>-0.025583</td>\n",
              "      <td>-0.028987</td>\n",
              "      <td>-0.028990</td>\n",
              "      <td>0.021584</td>\n",
              "    </tr>\n",
              "    <tr>\n",
              "      <th>1</th>\n",
              "      <td>economy</td>\n",
              "      <td>0.170616</td>\n",
              "      <td>-0.126744</td>\n",
              "      <td>-0.044926</td>\n",
              "      <td>-0.031687</td>\n",
              "      <td>-0.017804</td>\n",
              "      <td>-0.044893</td>\n",
              "      <td>-0.020202</td>\n",
              "      <td>0.008988</td>\n",
              "      <td>0.001626</td>\n",
              "      <td>-0.021411</td>\n",
              "      <td>0.113929</td>\n",
              "      <td>-0.078590</td>\n",
              "      <td>0.076412</td>\n",
              "      <td>-0.009213</td>\n",
              "      <td>0.036017</td>\n",
              "      <td>-0.110349</td>\n",
              "      <td>0.074673</td>\n",
              "      <td>-0.019842</td>\n",
              "      <td>-0.102723</td>\n",
              "      <td>-0.000174</td>\n",
              "      <td>0.126065</td>\n",
              "      <td>-0.082346</td>\n",
              "      <td>0.048653</td>\n",
              "      <td>0.014303</td>\n",
              "      <td>-0.063545</td>\n",
              "      <td>0.009749</td>\n",
              "      <td>-0.041140</td>\n",
              "      <td>-0.063500</td>\n",
              "      <td>-0.018073</td>\n",
              "      <td>-0.030983</td>\n",
              "    </tr>\n",
              "    <tr>\n",
              "      <th>2</th>\n",
              "      <td>economy</td>\n",
              "      <td>0.367370</td>\n",
              "      <td>-0.281357</td>\n",
              "      <td>-0.069716</td>\n",
              "      <td>0.261570</td>\n",
              "      <td>0.315182</td>\n",
              "      <td>-0.015521</td>\n",
              "      <td>-0.009713</td>\n",
              "      <td>-0.016377</td>\n",
              "      <td>0.015314</td>\n",
              "      <td>-0.021042</td>\n",
              "      <td>0.096368</td>\n",
              "      <td>-0.108906</td>\n",
              "      <td>0.142665</td>\n",
              "      <td>-0.002604</td>\n",
              "      <td>-0.007570</td>\n",
              "      <td>-0.187178</td>\n",
              "      <td>-0.084442</td>\n",
              "      <td>-0.002412</td>\n",
              "      <td>0.030397</td>\n",
              "      <td>-0.001891</td>\n",
              "      <td>0.017325</td>\n",
              "      <td>0.060917</td>\n",
              "      <td>0.047057</td>\n",
              "      <td>0.016235</td>\n",
              "      <td>-0.003469</td>\n",
              "      <td>-0.002654</td>\n",
              "      <td>-0.081524</td>\n",
              "      <td>-0.023371</td>\n",
              "      <td>0.025362</td>\n",
              "      <td>-0.023478</td>\n",
              "    </tr>\n",
              "    <tr>\n",
              "      <th>3</th>\n",
              "      <td>economy</td>\n",
              "      <td>0.019095</td>\n",
              "      <td>-0.010422</td>\n",
              "      <td>0.002451</td>\n",
              "      <td>0.002700</td>\n",
              "      <td>0.007320</td>\n",
              "      <td>0.020546</td>\n",
              "      <td>-0.005672</td>\n",
              "      <td>0.007810</td>\n",
              "      <td>-0.009305</td>\n",
              "      <td>-0.009812</td>\n",
              "      <td>0.083676</td>\n",
              "      <td>-0.093481</td>\n",
              "      <td>0.090921</td>\n",
              "      <td>-0.068185</td>\n",
              "      <td>-0.030124</td>\n",
              "      <td>0.127849</td>\n",
              "      <td>0.041482</td>\n",
              "      <td>-0.009036</td>\n",
              "      <td>-0.024856</td>\n",
              "      <td>-0.026975</td>\n",
              "      <td>0.007773</td>\n",
              "      <td>-0.023461</td>\n",
              "      <td>-0.076033</td>\n",
              "      <td>-0.059445</td>\n",
              "      <td>-0.001889</td>\n",
              "      <td>-0.026110</td>\n",
              "      <td>-0.011968</td>\n",
              "      <td>-0.003300</td>\n",
              "      <td>0.005955</td>\n",
              "      <td>0.035306</td>\n",
              "    </tr>\n",
              "    <tr>\n",
              "      <th>4</th>\n",
              "      <td>economy</td>\n",
              "      <td>0.089519</td>\n",
              "      <td>-0.076874</td>\n",
              "      <td>-0.030822</td>\n",
              "      <td>-0.013233</td>\n",
              "      <td>-0.006965</td>\n",
              "      <td>-0.026033</td>\n",
              "      <td>-0.006621</td>\n",
              "      <td>0.002964</td>\n",
              "      <td>-0.002988</td>\n",
              "      <td>-0.012661</td>\n",
              "      <td>0.092500</td>\n",
              "      <td>-0.105984</td>\n",
              "      <td>0.099638</td>\n",
              "      <td>-0.043557</td>\n",
              "      <td>-0.004375</td>\n",
              "      <td>0.007083</td>\n",
              "      <td>0.050274</td>\n",
              "      <td>-0.005328</td>\n",
              "      <td>0.018547</td>\n",
              "      <td>-0.017792</td>\n",
              "      <td>-0.010811</td>\n",
              "      <td>-0.021915</td>\n",
              "      <td>-0.037837</td>\n",
              "      <td>-0.027574</td>\n",
              "      <td>-0.015055</td>\n",
              "      <td>0.013571</td>\n",
              "      <td>-0.017623</td>\n",
              "      <td>-0.015290</td>\n",
              "      <td>-0.028436</td>\n",
              "      <td>0.058854</td>\n",
              "    </tr>\n",
              "  </tbody>\n",
              "</table>\n",
              "</div>"
            ],
            "text/plain": [
              "     Topic  svd_word_title_0  ...  svd_word_head_18  svd_word_head_19\n",
              "0    obama          0.069942  ...         -0.028990          0.021584\n",
              "1  economy          0.170616  ...         -0.018073         -0.030983\n",
              "2  economy          0.367370  ...          0.025362         -0.023478\n",
              "3  economy          0.019095  ...          0.005955          0.035306\n",
              "4  economy          0.089519  ...         -0.028436          0.058854\n",
              "\n",
              "[5 rows x 31 columns]"
            ]
          },
          "metadata": {
            "tags": []
          },
          "execution_count": 23
        }
      ]
    },
    {
      "cell_type": "code",
      "metadata": {
        "id": "SMfWtiro1idn"
      },
      "source": [
        "test=df_test.drop(['IDLink','PublishDate','Source','index','Title','Headline','Facebook','GooglePlus','LinkedIn'],axis=1)"
      ],
      "execution_count": null,
      "outputs": []
    },
    {
      "cell_type": "code",
      "metadata": {
        "id": "aQY4JTWk1o_V",
        "outputId": "7e4ea1a0-0323-48af-e4b5-ca87fea35ade",
        "colab": {
          "base_uri": "https://localhost:8080/",
          "height": 215
        }
      },
      "source": [
        "# test.head()"
      ],
      "execution_count": null,
      "outputs": [
        {
          "output_type": "execute_result",
          "data": {
            "text/html": [
              "<div>\n",
              "<style scoped>\n",
              "    .dataframe tbody tr th:only-of-type {\n",
              "        vertical-align: middle;\n",
              "    }\n",
              "\n",
              "    .dataframe tbody tr th {\n",
              "        vertical-align: top;\n",
              "    }\n",
              "\n",
              "    .dataframe thead th {\n",
              "        text-align: right;\n",
              "    }\n",
              "</style>\n",
              "<table border=\"1\" class=\"dataframe\">\n",
              "  <thead>\n",
              "    <tr style=\"text-align: right;\">\n",
              "      <th></th>\n",
              "      <th>Topic</th>\n",
              "      <th>svd_word_title_0</th>\n",
              "      <th>svd_word_title_1</th>\n",
              "      <th>svd_word_title_2</th>\n",
              "      <th>svd_word_title_3</th>\n",
              "      <th>svd_word_title_4</th>\n",
              "      <th>svd_word_title_5</th>\n",
              "      <th>svd_word_title_6</th>\n",
              "      <th>svd_word_title_7</th>\n",
              "      <th>svd_word_title_8</th>\n",
              "      <th>svd_word_title_9</th>\n",
              "      <th>svd_word_head_0</th>\n",
              "      <th>svd_word_head_1</th>\n",
              "      <th>svd_word_head_2</th>\n",
              "      <th>svd_word_head_3</th>\n",
              "      <th>svd_word_head_4</th>\n",
              "      <th>svd_word_head_5</th>\n",
              "      <th>svd_word_head_6</th>\n",
              "      <th>svd_word_head_7</th>\n",
              "      <th>svd_word_head_8</th>\n",
              "      <th>svd_word_head_9</th>\n",
              "      <th>svd_word_head_10</th>\n",
              "      <th>svd_word_head_11</th>\n",
              "      <th>svd_word_head_12</th>\n",
              "      <th>svd_word_head_13</th>\n",
              "      <th>svd_word_head_14</th>\n",
              "      <th>svd_word_head_15</th>\n",
              "      <th>svd_word_head_16</th>\n",
              "      <th>svd_word_head_17</th>\n",
              "      <th>svd_word_head_18</th>\n",
              "      <th>svd_word_head_19</th>\n",
              "    </tr>\n",
              "  </thead>\n",
              "  <tbody>\n",
              "    <tr>\n",
              "      <th>0</th>\n",
              "      <td>economy</td>\n",
              "      <td>0.138004</td>\n",
              "      <td>-0.090521</td>\n",
              "      <td>-0.045574</td>\n",
              "      <td>-0.024249</td>\n",
              "      <td>-0.018675</td>\n",
              "      <td>-0.042398</td>\n",
              "      <td>-0.025223</td>\n",
              "      <td>-0.014266</td>\n",
              "      <td>-0.008969</td>\n",
              "      <td>-0.014172</td>\n",
              "      <td>0.132733</td>\n",
              "      <td>0.018558</td>\n",
              "      <td>0.017279</td>\n",
              "      <td>-0.037892</td>\n",
              "      <td>0.074507</td>\n",
              "      <td>0.033010</td>\n",
              "      <td>-0.036353</td>\n",
              "      <td>0.059464</td>\n",
              "      <td>0.049943</td>\n",
              "      <td>0.006739</td>\n",
              "      <td>0.045617</td>\n",
              "      <td>-0.008086</td>\n",
              "      <td>0.154999</td>\n",
              "      <td>-0.136427</td>\n",
              "      <td>0.066305</td>\n",
              "      <td>0.027538</td>\n",
              "      <td>0.058098</td>\n",
              "      <td>-0.047171</td>\n",
              "      <td>-0.105594</td>\n",
              "      <td>0.088549</td>\n",
              "    </tr>\n",
              "    <tr>\n",
              "      <th>1</th>\n",
              "      <td>microsoft</td>\n",
              "      <td>0.063667</td>\n",
              "      <td>0.014620</td>\n",
              "      <td>0.180104</td>\n",
              "      <td>-0.024038</td>\n",
              "      <td>-0.014908</td>\n",
              "      <td>-0.006613</td>\n",
              "      <td>0.009710</td>\n",
              "      <td>0.003978</td>\n",
              "      <td>-0.026557</td>\n",
              "      <td>-0.018969</td>\n",
              "      <td>0.074832</td>\n",
              "      <td>-0.084285</td>\n",
              "      <td>-0.119092</td>\n",
              "      <td>0.007166</td>\n",
              "      <td>0.004405</td>\n",
              "      <td>-0.029927</td>\n",
              "      <td>0.001396</td>\n",
              "      <td>0.011897</td>\n",
              "      <td>-0.002100</td>\n",
              "      <td>-0.053261</td>\n",
              "      <td>-0.017382</td>\n",
              "      <td>-0.002433</td>\n",
              "      <td>0.001236</td>\n",
              "      <td>0.035690</td>\n",
              "      <td>-0.036030</td>\n",
              "      <td>-0.010555</td>\n",
              "      <td>0.011849</td>\n",
              "      <td>-0.021235</td>\n",
              "      <td>-0.025532</td>\n",
              "      <td>0.049646</td>\n",
              "    </tr>\n",
              "    <tr>\n",
              "      <th>2</th>\n",
              "      <td>microsoft</td>\n",
              "      <td>0.069247</td>\n",
              "      <td>0.032162</td>\n",
              "      <td>0.097001</td>\n",
              "      <td>-0.016555</td>\n",
              "      <td>-0.013294</td>\n",
              "      <td>0.002569</td>\n",
              "      <td>0.126644</td>\n",
              "      <td>-0.042953</td>\n",
              "      <td>0.104863</td>\n",
              "      <td>-0.097136</td>\n",
              "      <td>0.073418</td>\n",
              "      <td>-0.076882</td>\n",
              "      <td>-0.094991</td>\n",
              "      <td>-0.006781</td>\n",
              "      <td>0.002506</td>\n",
              "      <td>-0.014278</td>\n",
              "      <td>0.011894</td>\n",
              "      <td>-0.005779</td>\n",
              "      <td>0.000091</td>\n",
              "      <td>-0.031533</td>\n",
              "      <td>0.005102</td>\n",
              "      <td>0.012087</td>\n",
              "      <td>-0.007885</td>\n",
              "      <td>0.013034</td>\n",
              "      <td>-0.014281</td>\n",
              "      <td>-0.012878</td>\n",
              "      <td>-0.005534</td>\n",
              "      <td>0.030030</td>\n",
              "      <td>-0.019967</td>\n",
              "      <td>0.041294</td>\n",
              "    </tr>\n",
              "    <tr>\n",
              "      <th>3</th>\n",
              "      <td>economy</td>\n",
              "      <td>0.123790</td>\n",
              "      <td>-0.091149</td>\n",
              "      <td>-0.040126</td>\n",
              "      <td>-0.004177</td>\n",
              "      <td>-0.031025</td>\n",
              "      <td>0.003302</td>\n",
              "      <td>0.016274</td>\n",
              "      <td>-0.017067</td>\n",
              "      <td>-0.013017</td>\n",
              "      <td>0.007944</td>\n",
              "      <td>0.071796</td>\n",
              "      <td>-0.067320</td>\n",
              "      <td>0.073395</td>\n",
              "      <td>-0.005986</td>\n",
              "      <td>-0.004287</td>\n",
              "      <td>-0.061087</td>\n",
              "      <td>0.060682</td>\n",
              "      <td>-0.016070</td>\n",
              "      <td>0.018888</td>\n",
              "      <td>-0.010273</td>\n",
              "      <td>0.037099</td>\n",
              "      <td>0.038073</td>\n",
              "      <td>0.027270</td>\n",
              "      <td>0.017044</td>\n",
              "      <td>0.037175</td>\n",
              "      <td>-0.015079</td>\n",
              "      <td>-0.050069</td>\n",
              "      <td>-0.004327</td>\n",
              "      <td>0.014791</td>\n",
              "      <td>-0.014809</td>\n",
              "    </tr>\n",
              "    <tr>\n",
              "      <th>4</th>\n",
              "      <td>economy</td>\n",
              "      <td>0.094539</td>\n",
              "      <td>-0.061761</td>\n",
              "      <td>-0.026470</td>\n",
              "      <td>-0.013126</td>\n",
              "      <td>-0.005374</td>\n",
              "      <td>-0.012780</td>\n",
              "      <td>-0.003877</td>\n",
              "      <td>-0.002145</td>\n",
              "      <td>-0.001710</td>\n",
              "      <td>-0.007807</td>\n",
              "      <td>0.083406</td>\n",
              "      <td>-0.073622</td>\n",
              "      <td>0.060712</td>\n",
              "      <td>-0.020871</td>\n",
              "      <td>-0.009590</td>\n",
              "      <td>-0.029090</td>\n",
              "      <td>0.055459</td>\n",
              "      <td>-0.005946</td>\n",
              "      <td>0.017897</td>\n",
              "      <td>0.011120</td>\n",
              "      <td>0.004281</td>\n",
              "      <td>0.063907</td>\n",
              "      <td>0.034999</td>\n",
              "      <td>0.026925</td>\n",
              "      <td>-0.023028</td>\n",
              "      <td>-0.002529</td>\n",
              "      <td>-0.025514</td>\n",
              "      <td>-0.011251</td>\n",
              "      <td>0.017434</td>\n",
              "      <td>0.003892</td>\n",
              "    </tr>\n",
              "  </tbody>\n",
              "</table>\n",
              "</div>"
            ],
            "text/plain": [
              "       Topic  svd_word_title_0  ...  svd_word_head_18  svd_word_head_19\n",
              "0    economy          0.138004  ...         -0.105594          0.088549\n",
              "1  microsoft          0.063667  ...         -0.025532          0.049646\n",
              "2  microsoft          0.069247  ...         -0.019967          0.041294\n",
              "3    economy          0.123790  ...          0.014791         -0.014809\n",
              "4    economy          0.094539  ...          0.017434          0.003892\n",
              "\n",
              "[5 rows x 31 columns]"
            ]
          },
          "metadata": {
            "tags": []
          },
          "execution_count": 25
        }
      ]
    },
    {
      "cell_type": "code",
      "metadata": {
        "id": "T0fdxFC9z2G8"
      },
      "source": [
        "topic_map = {'obama':1, 'economy':2,'microsoft':3,'palestine':4}\n",
        "\n",
        "train['Topic'] = train['Topic'].map(topic_map)\n",
        "test['Topic'] = test['Topic'].map(topic_map)"
      ],
      "execution_count": null,
      "outputs": []
    },
    {
      "cell_type": "code",
      "metadata": {
        "id": "LcY2Xw5P1t5Y"
      },
      "source": [
        "import lightgbm as lgb"
      ],
      "execution_count": null,
      "outputs": []
    },
    {
      "cell_type": "code",
      "metadata": {
        "id": "Bq_d85I0GUaI"
      },
      "source": [
        "from sklearn.model_selection import GridSearchCV"
      ],
      "execution_count": null,
      "outputs": []
    },
    {
      "cell_type": "code",
      "metadata": {
        "id": "eh-4nkfN11L8"
      },
      "source": [
        "model_t = lgb.LGBMRegressor(boosting_type='gbdt', objective='regression', num_leaves=1200,\n",
        "                    learning_rate=0.05, n_estimators=1000, max_depth=12,\n",
        "                    metric='rmse', bagging_fraction=0.8, feature_fraction=0.8, reg_lambda=0.9)"
      ],
      "execution_count": null,
      "outputs": []
    },
    {
      "cell_type": "code",
      "metadata": {
        "id": "JmZIzb1vG85C"
      },
      "source": [
        "parameters = {'n_estimators':[1000,1200],'learning_rate':[0.1,0.05,0.01]}"
      ],
      "execution_count": null,
      "outputs": []
    },
    {
      "cell_type": "code",
      "metadata": {
        "id": "46MvYm9xGTcK"
      },
      "source": [
        "clf_t = GridSearchCV(model_t, parameters)"
      ],
      "execution_count": null,
      "outputs": []
    },
    {
      "cell_type": "code",
      "metadata": {
        "id": "sxJLMgc1HqDM",
        "outputId": "7a9fb000-16f5-480b-f263-8e2db45116e5",
        "colab": {
          "base_uri": "https://localhost:8080/",
          "height": 336
        }
      },
      "source": [
        "clf_t.fit(train,train_y_t)"
      ],
      "execution_count": null,
      "outputs": [
        {
          "output_type": "execute_result",
          "data": {
            "text/plain": [
              "GridSearchCV(cv=None, error_score=nan,\n",
              "             estimator=LGBMRegressor(bagging_fraction=0.8, boosting_type='gbdt',\n",
              "                                     class_weight=None, colsample_bytree=1.0,\n",
              "                                     feature_fraction=0.8,\n",
              "                                     importance_type='split',\n",
              "                                     learning_rate=0.05, max_depth=12,\n",
              "                                     metric='rmse', min_child_samples=20,\n",
              "                                     min_child_weight=0.001, min_split_gain=0.0,\n",
              "                                     n_estimators=1000, n_jobs=-1,\n",
              "                                     num_leaves=1200, objective='regression',\n",
              "                                     random_state=None, reg_alpha=0.0,\n",
              "                                     reg_lambda=0.9, silent=True, subsample=1.0,\n",
              "                                     subsample_for_bin=200000,\n",
              "                                     subsample_freq=0),\n",
              "             iid='deprecated', n_jobs=None,\n",
              "             param_grid={'learning_rate': [0.1, 0.05, 0.01],\n",
              "                         'n_estimators': [1000, 1200]},\n",
              "             pre_dispatch='2*n_jobs', refit=True, return_train_score=False,\n",
              "             scoring=None, verbose=0)"
            ]
          },
          "metadata": {
            "tags": []
          },
          "execution_count": 73
        }
      ]
    },
    {
      "cell_type": "code",
      "metadata": {
        "id": "Rh9o4TBo2ZVz",
        "outputId": "93b23eb5-40fc-4548-f46c-0db4a4dbefc5",
        "colab": {
          "base_uri": "https://localhost:8080/",
          "height": 151
        }
      },
      "source": [
        "# model_t.fit(train,train_y_t)"
      ],
      "execution_count": null,
      "outputs": [
        {
          "output_type": "execute_result",
          "data": {
            "text/plain": [
              "LGBMRegressor(bagging_fraction=0.8, boosting_type='gbdt', class_weight=None,\n",
              "              colsample_bytree=1.0, feature_fraction=0.8,\n",
              "              importance_type='split', learning_rate=0.05, max_depth=12,\n",
              "              metric='rmse', min_child_samples=20, min_child_weight=0.001,\n",
              "              min_split_gain=0.0, n_estimators=1000, n_jobs=-1, num_leaves=1200,\n",
              "              objective='regression', random_state=None, reg_alpha=0.0,\n",
              "              reg_lambda=0.9, silent=True, subsample=1.0,\n",
              "              subsample_for_bin=200000, subsample_freq=0)"
            ]
          },
          "metadata": {
            "tags": []
          },
          "execution_count": 55
        }
      ]
    },
    {
      "cell_type": "code",
      "metadata": {
        "id": "b4PtdDik2qj0"
      },
      "source": [
        "model_h = lgb.LGBMRegressor(boosting_type='gbdt', objective='regression', num_leaves=1200,\n",
        "                    learning_rate=0.05, n_estimators=1000, max_depth=12,\n",
        "                    metric='rmse', bagging_fraction=0.8, feature_fraction=0.8, reg_lambda=0.9)"
      ],
      "execution_count": null,
      "outputs": []
    },
    {
      "cell_type": "code",
      "metadata": {
        "id": "taYR7DZnIIM7"
      },
      "source": [
        "clf_h = GridSearchCV(model_h, parameters)"
      ],
      "execution_count": null,
      "outputs": []
    },
    {
      "cell_type": "code",
      "metadata": {
        "id": "cj6EmNJQ3Fzd",
        "outputId": "211f4ee1-da18-4c6a-e57f-592f93def684",
        "colab": {
          "base_uri": "https://localhost:8080/",
          "height": 336
        }
      },
      "source": [
        "# model_h.fit(train,train_y_h)\n",
        "clf_h.fit(train,train_y_t)"
      ],
      "execution_count": null,
      "outputs": [
        {
          "output_type": "execute_result",
          "data": {
            "text/plain": [
              "GridSearchCV(cv=None, error_score=nan,\n",
              "             estimator=LGBMRegressor(bagging_fraction=0.8, boosting_type='gbdt',\n",
              "                                     class_weight=None, colsample_bytree=1.0,\n",
              "                                     feature_fraction=0.8,\n",
              "                                     importance_type='split',\n",
              "                                     learning_rate=0.05, max_depth=12,\n",
              "                                     metric='rmse', min_child_samples=20,\n",
              "                                     min_child_weight=0.001, min_split_gain=0.0,\n",
              "                                     n_estimators=1000, n_jobs=-1,\n",
              "                                     num_leaves=1200, objective='regression',\n",
              "                                     random_state=None, reg_alpha=0.0,\n",
              "                                     reg_lambda=0.9, silent=True, subsample=1.0,\n",
              "                                     subsample_for_bin=200000,\n",
              "                                     subsample_freq=0),\n",
              "             iid='deprecated', n_jobs=None,\n",
              "             param_grid={'learning_rate': [0.1, 0.05, 0.01],\n",
              "                         'n_estimators': [1000, 1200]},\n",
              "             pre_dispatch='2*n_jobs', refit=True, return_train_score=False,\n",
              "             scoring=None, verbose=0)"
            ]
          },
          "metadata": {
            "tags": []
          },
          "execution_count": 76
        }
      ]
    },
    {
      "cell_type": "code",
      "metadata": {
        "id": "En4UqTTo3LuO"
      },
      "source": [
        "# pred_t=model_t.predict(test)\n",
        "pred_t=clf_t.predict(test)"
      ],
      "execution_count": null,
      "outputs": []
    },
    {
      "cell_type": "code",
      "metadata": {
        "id": "_MxJ3zV13fhq"
      },
      "source": [
        "pred_h=clf_h.predict(test)"
      ],
      "execution_count": null,
      "outputs": []
    },
    {
      "cell_type": "code",
      "metadata": {
        "id": "6jiFwHR84WhG"
      },
      "source": [
        "testtemp = pd.read_csv('dataset/test_file.csv')"
      ],
      "execution_count": null,
      "outputs": []
    },
    {
      "cell_type": "code",
      "metadata": {
        "id": "woyPafXe4iqc",
        "outputId": "cbac6b10-9e77-43b4-de85-b328d6521c24",
        "colab": {
          "base_uri": "https://localhost:8080/",
          "height": 279
        }
      },
      "source": [
        "# testtemp.head()"
      ],
      "execution_count": null,
      "outputs": [
        {
          "output_type": "execute_result",
          "data": {
            "text/html": [
              "<div>\n",
              "<style scoped>\n",
              "    .dataframe tbody tr th:only-of-type {\n",
              "        vertical-align: middle;\n",
              "    }\n",
              "\n",
              "    .dataframe tbody tr th {\n",
              "        vertical-align: top;\n",
              "    }\n",
              "\n",
              "    .dataframe thead th {\n",
              "        text-align: right;\n",
              "    }\n",
              "</style>\n",
              "<table border=\"1\" class=\"dataframe\">\n",
              "  <thead>\n",
              "    <tr style=\"text-align: right;\">\n",
              "      <th></th>\n",
              "      <th>IDLink</th>\n",
              "      <th>Title</th>\n",
              "      <th>Headline</th>\n",
              "      <th>Source</th>\n",
              "      <th>Topic</th>\n",
              "      <th>PublishDate</th>\n",
              "      <th>Facebook</th>\n",
              "      <th>GooglePlus</th>\n",
              "      <th>LinkedIn</th>\n",
              "    </tr>\n",
              "  </thead>\n",
              "  <tbody>\n",
              "    <tr>\n",
              "      <th>0</th>\n",
              "      <td>tFrqIR6Chj</td>\n",
              "      <td>Sliding Economy: FG fights back with N3trn TSA...</td>\n",
              "      <td>With the 2016 budget now passed by the Nationa...</td>\n",
              "      <td>BusinessDay</td>\n",
              "      <td>economy</td>\n",
              "      <td>2016-03-29 01:41:12</td>\n",
              "      <td>0</td>\n",
              "      <td>0</td>\n",
              "      <td>1</td>\n",
              "    </tr>\n",
              "    <tr>\n",
              "      <th>1</th>\n",
              "      <td>DVAaGErjlF</td>\n",
              "      <td>Microsoft shows how HoloLens can bring distant...</td>\n",
              "      <td>A recent Microsoft Research video shows how th...</td>\n",
              "      <td>Daily Mail</td>\n",
              "      <td>microsoft</td>\n",
              "      <td>2016-03-29 01:41:27</td>\n",
              "      <td>121</td>\n",
              "      <td>2</td>\n",
              "      <td>13</td>\n",
              "    </tr>\n",
              "    <tr>\n",
              "      <th>2</th>\n",
              "      <td>OT9UIZm5M2</td>\n",
              "      <td>Microsoft’s Twitter Robot Praises Hitler, Trum...</td>\n",
              "      <td>* Microsoft teamed with Bing to create TayTwee...</td>\n",
              "      <td>EURweb</td>\n",
              "      <td>microsoft</td>\n",
              "      <td>2016-03-29 01:47:00</td>\n",
              "      <td>12</td>\n",
              "      <td>1</td>\n",
              "      <td>0</td>\n",
              "    </tr>\n",
              "    <tr>\n",
              "      <th>3</th>\n",
              "      <td>lflGp3q2Fj</td>\n",
              "      <td>Flood of Central Bank Moves Can't Get World Ec...</td>\n",
              "      <td>Central bankers have managed to steer the worl...</td>\n",
              "      <td>Bloomberg via Yahoo! Finance</td>\n",
              "      <td>economy</td>\n",
              "      <td>2016-03-29 02:00:00</td>\n",
              "      <td>0</td>\n",
              "      <td>0</td>\n",
              "      <td>3</td>\n",
              "    </tr>\n",
              "    <tr>\n",
              "      <th>4</th>\n",
              "      <td>zDYG0SoovZ</td>\n",
              "      <td>USD/JPY: bears lining up on mixed U.S. economy...</td>\n",
              "      <td>However, this streak of seven-day gains might ...</td>\n",
              "      <td>FXStreet</td>\n",
              "      <td>economy</td>\n",
              "      <td>2016-03-29 02:01:07</td>\n",
              "      <td>3</td>\n",
              "      <td>0</td>\n",
              "      <td>0</td>\n",
              "    </tr>\n",
              "  </tbody>\n",
              "</table>\n",
              "</div>"
            ],
            "text/plain": [
              "       IDLink  ... LinkedIn\n",
              "0  tFrqIR6Chj  ...        1\n",
              "1  DVAaGErjlF  ...       13\n",
              "2  OT9UIZm5M2  ...        0\n",
              "3  lflGp3q2Fj  ...        3\n",
              "4  zDYG0SoovZ  ...        0\n",
              "\n",
              "[5 rows x 9 columns]"
            ]
          },
          "metadata": {
            "tags": []
          },
          "execution_count": 35
        }
      ]
    },
    {
      "cell_type": "code",
      "metadata": {
        "id": "rd5IyflD3iVJ"
      },
      "source": [
        "submissions=pd.DataFrame(columns=['IDLink','SentimentTitle','SentimentHeadline'])\n",
        "submissions['IDLink'] = testtemp['IDLink']\n",
        "submissions['SentimentTitle'] = pred_t\n",
        "submissions['SentimentHeadline'] = pred_h"
      ],
      "execution_count": null,
      "outputs": []
    },
    {
      "cell_type": "code",
      "metadata": {
        "id": "lrIXOryp4LzN"
      },
      "source": [
        "submissions.to_csv('submission5.csv',index=False)"
      ],
      "execution_count": null,
      "outputs": []
    },
    {
      "cell_type": "code",
      "metadata": {
        "id": "MQrkupkk7iN-"
      },
      "source": [
        "# sub = pd.read_csv('submission2.csv')"
      ],
      "execution_count": null,
      "outputs": []
    },
    {
      "cell_type": "code",
      "metadata": {
        "id": "n4ycjFsP7rJ-",
        "outputId": "f8f50eb4-29ad-4d2b-f746-84f045c2c578",
        "colab": {
          "base_uri": "https://localhost:8080/",
          "height": 195
        }
      },
      "source": [
        "# sub.head()"
      ],
      "execution_count": null,
      "outputs": [
        {
          "output_type": "execute_result",
          "data": {
            "text/html": [
              "<div>\n",
              "<style scoped>\n",
              "    .dataframe tbody tr th:only-of-type {\n",
              "        vertical-align: middle;\n",
              "    }\n",
              "\n",
              "    .dataframe tbody tr th {\n",
              "        vertical-align: top;\n",
              "    }\n",
              "\n",
              "    .dataframe thead th {\n",
              "        text-align: right;\n",
              "    }\n",
              "</style>\n",
              "<table border=\"1\" class=\"dataframe\">\n",
              "  <thead>\n",
              "    <tr style=\"text-align: right;\">\n",
              "      <th></th>\n",
              "      <th>IDLink</th>\n",
              "      <th>SentimentTitle</th>\n",
              "      <th>SentimentHeadline</th>\n",
              "    </tr>\n",
              "  </thead>\n",
              "  <tbody>\n",
              "    <tr>\n",
              "      <th>0</th>\n",
              "      <td>tFrqIR6Chj</td>\n",
              "      <td>-0.010385</td>\n",
              "      <td>-0.025498</td>\n",
              "    </tr>\n",
              "    <tr>\n",
              "      <th>1</th>\n",
              "      <td>DVAaGErjlF</td>\n",
              "      <td>0.011471</td>\n",
              "      <td>0.034969</td>\n",
              "    </tr>\n",
              "    <tr>\n",
              "      <th>2</th>\n",
              "      <td>OT9UIZm5M2</td>\n",
              "      <td>-0.055839</td>\n",
              "      <td>-0.035383</td>\n",
              "    </tr>\n",
              "    <tr>\n",
              "      <th>3</th>\n",
              "      <td>lflGp3q2Fj</td>\n",
              "      <td>-0.005483</td>\n",
              "      <td>-0.037457</td>\n",
              "    </tr>\n",
              "    <tr>\n",
              "      <th>4</th>\n",
              "      <td>zDYG0SoovZ</td>\n",
              "      <td>-0.038516</td>\n",
              "      <td>-0.075608</td>\n",
              "    </tr>\n",
              "  </tbody>\n",
              "</table>\n",
              "</div>"
            ],
            "text/plain": [
              "       IDLink  SentimentTitle  SentimentHeadline\n",
              "0  tFrqIR6Chj       -0.010385          -0.025498\n",
              "1  DVAaGErjlF        0.011471           0.034969\n",
              "2  OT9UIZm5M2       -0.055839          -0.035383\n",
              "3  lflGp3q2Fj       -0.005483          -0.037457\n",
              "4  zDYG0SoovZ       -0.038516          -0.075608"
            ]
          },
          "metadata": {
            "tags": []
          },
          "execution_count": 63
        }
      ]
    },
    {
      "cell_type": "code",
      "metadata": {
        "id": "SPwZLe2M7soh"
      },
      "source": [
        "# suniv = pd.read_csv('submission3.csv')"
      ],
      "execution_count": null,
      "outputs": []
    },
    {
      "cell_type": "code",
      "metadata": {
        "id": "iX7qmL4B8dfS",
        "outputId": "e2b8d64c-5101-4e7c-e0c6-66f26c39f06e",
        "colab": {
          "base_uri": "https://localhost:8080/",
          "height": 195
        }
      },
      "source": [
        "# suniv.head()"
      ],
      "execution_count": null,
      "outputs": [
        {
          "output_type": "execute_result",
          "data": {
            "text/html": [
              "<div>\n",
              "<style scoped>\n",
              "    .dataframe tbody tr th:only-of-type {\n",
              "        vertical-align: middle;\n",
              "    }\n",
              "\n",
              "    .dataframe tbody tr th {\n",
              "        vertical-align: top;\n",
              "    }\n",
              "\n",
              "    .dataframe thead th {\n",
              "        text-align: right;\n",
              "    }\n",
              "</style>\n",
              "<table border=\"1\" class=\"dataframe\">\n",
              "  <thead>\n",
              "    <tr style=\"text-align: right;\">\n",
              "      <th></th>\n",
              "      <th>IDLink</th>\n",
              "      <th>SentimentTitle</th>\n",
              "      <th>SentimentHeadline</th>\n",
              "    </tr>\n",
              "  </thead>\n",
              "  <tbody>\n",
              "    <tr>\n",
              "      <th>0</th>\n",
              "      <td>tFrqIR6Chj</td>\n",
              "      <td>0.012229</td>\n",
              "      <td>0.009446</td>\n",
              "    </tr>\n",
              "    <tr>\n",
              "      <th>1</th>\n",
              "      <td>DVAaGErjlF</td>\n",
              "      <td>0.002380</td>\n",
              "      <td>0.037517</td>\n",
              "    </tr>\n",
              "    <tr>\n",
              "      <th>2</th>\n",
              "      <td>OT9UIZm5M2</td>\n",
              "      <td>-0.000316</td>\n",
              "      <td>-0.027790</td>\n",
              "    </tr>\n",
              "    <tr>\n",
              "      <th>3</th>\n",
              "      <td>lflGp3q2Fj</td>\n",
              "      <td>-0.010996</td>\n",
              "      <td>-0.042243</td>\n",
              "    </tr>\n",
              "    <tr>\n",
              "      <th>4</th>\n",
              "      <td>zDYG0SoovZ</td>\n",
              "      <td>-0.049601</td>\n",
              "      <td>-0.032183</td>\n",
              "    </tr>\n",
              "  </tbody>\n",
              "</table>\n",
              "</div>"
            ],
            "text/plain": [
              "       IDLink  SentimentTitle  SentimentHeadline\n",
              "0  tFrqIR6Chj        0.012229           0.009446\n",
              "1  DVAaGErjlF        0.002380           0.037517\n",
              "2  OT9UIZm5M2       -0.000316          -0.027790\n",
              "3  lflGp3q2Fj       -0.010996          -0.042243\n",
              "4  zDYG0SoovZ       -0.049601          -0.032183"
            ]
          },
          "metadata": {
            "tags": []
          },
          "execution_count": 65
        }
      ]
    },
    {
      "cell_type": "code",
      "metadata": {
        "id": "EIjmnGTE8gG3"
      },
      "source": [
        "# meanz=pd.DataFrame(columns=['IDLink','SentimentTitle','SentimentHeadline'])\n",
        "# meanz['IDLink'] = testtemp['IDLink']\n",
        "# meanz['SentimentTitle'] = 0.6*sub['SentimentTitle']+0.4*suniv['SentimentTitle']\n",
        "# meanz['SentimentHeadline'] = 0.6*sub['SentimentHeadline']+0.4*suniv['SentimentHeadline']"
      ],
      "execution_count": null,
      "outputs": []
    },
    {
      "cell_type": "code",
      "metadata": {
        "id": "oq4wiUmJ9RZJ"
      },
      "source": [
        "# meanz.to_csv('submission4.csv',index=False)"
      ],
      "execution_count": null,
      "outputs": []
    },
    {
      "cell_type": "code",
      "metadata": {
        "id": "GCfaSg5u9XQn"
      },
      "source": [
        ""
      ],
      "execution_count": null,
      "outputs": []
    }
  ]
}